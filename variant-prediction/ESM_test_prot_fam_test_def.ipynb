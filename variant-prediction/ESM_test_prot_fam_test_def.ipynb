{
 "cells": [
  {
   "cell_type": "code",
   "execution_count": 1,
   "id": "7dd98446-b397-4f06-92f8-706ec06741db",
   "metadata": {},
   "outputs": [],
   "source": [
    "import random\n",
    "from collections import Counter\n",
    "from tqdm import tqdm\n",
    "\n",
    "import torch\n",
    "import matplotlib.pyplot as plt\n",
    "import numpy as np\n",
    "import pandas as pd\n",
    "import seaborn as sns\n",
    "\n",
    "import esm"
   ]
  },
  {
   "cell_type": "code",
   "execution_count": 2,
   "id": "16642e8c-f5b5-41b5-861f-c2d6935d04c1",
   "metadata": {},
   "outputs": [],
   "source": [
    "import scipy\n",
    "from sklearn.model_selection import GridSearchCV, train_test_split\n",
    "from sklearn.decomposition import PCA\n",
    "from sklearn.neighbors import KNeighborsClassifier, KNeighborsRegressor\n",
    "from sklearn.svm import SVC, SVR\n",
    "from sklearn.ensemble import RandomForestClassifier, RandomForestRegressor\n",
    "from sklearn.naive_bayes import GaussianNB\n",
    "from sklearn.linear_model import LogisticRegression, SGDRegressor"
   ]
  },
  {
   "cell_type": "code",
   "execution_count": 3,
   "id": "afb795e5-01e8-45a3-a2ce-bbf2b1a6759d",
   "metadata": {},
   "outputs": [],
   "source": [
    "import random\n",
    "from collections import Counter\n",
    "from tqdm import tqdm\n",
    "import torch\n",
    "import matplotlib.pyplot as plt\n",
    "import numpy as np\n",
    "import pandas as pd\n",
    "import seaborn as sns\n",
    "import esm\n",
    "import scipy\n",
    "from sklearn.model_selection import GridSearchCV, train_test_split\n",
    "from sklearn.decomposition import PCA\n",
    "from sklearn.neighbors import KNeighborsClassifier, KNeighborsRegressor\n",
    "from sklearn.svm import SVC, SVR\n",
    "from sklearn.ensemble import RandomForestClassifier, RandomForestRegressor\n",
    "from sklearn.naive_bayes import GaussianNB\n",
    "from sklearn.linear_model import LogisticRegression, SGDRegressor\n",
    "import matplotlib.pyplot as plt\n",
    "from collections import Counter\n",
    "from sklearn.preprocessing import LabelBinarizer\n",
    "from gensim.models.doc2vec import Doc2Vec, TaggedDocument\n",
    "import torch.nn as nn\n",
    "from itertools import chain"
   ]
  },
  {
   "cell_type": "code",
   "execution_count": 4,
   "id": "db3e5102-37fa-4993-881c-2b25d53ac3e8",
   "metadata": {},
   "outputs": [
    {
     "name": "stdout",
     "output_type": "stream",
     "text": [
      "(87761, 18)\n"
     ]
    },
    {
     "data": {
      "text/html": [
       "<div>\n",
       "<style scoped>\n",
       "    .dataframe tbody tr th:only-of-type {\n",
       "        vertical-align: middle;\n",
       "    }\n",
       "\n",
       "    .dataframe tbody tr th {\n",
       "        vertical-align: top;\n",
       "    }\n",
       "\n",
       "    .dataframe thead th {\n",
       "        text-align: right;\n",
       "    }\n",
       "</style>\n",
       "<table border=\"1\" class=\"dataframe\">\n",
       "  <thead>\n",
       "    <tr style=\"text-align: right;\">\n",
       "      <th></th>\n",
       "      <th>structureId</th>\n",
       "      <th>classification</th>\n",
       "      <th>experimentalTechnique</th>\n",
       "      <th>macromoleculeType_x</th>\n",
       "      <th>residueCount_x</th>\n",
       "      <th>resolution</th>\n",
       "      <th>structureMolecularWeight</th>\n",
       "      <th>crystallizationMethod</th>\n",
       "      <th>crystallizationTempK</th>\n",
       "      <th>densityMatthews</th>\n",
       "      <th>densityPercentSol</th>\n",
       "      <th>pdbxDetails</th>\n",
       "      <th>phValue</th>\n",
       "      <th>publicationYear</th>\n",
       "      <th>chainId</th>\n",
       "      <th>sequence</th>\n",
       "      <th>residueCount_y</th>\n",
       "      <th>macromoleculeType_y</th>\n",
       "    </tr>\n",
       "  </thead>\n",
       "  <tbody>\n",
       "    <tr>\n",
       "      <th>4</th>\n",
       "      <td>101M</td>\n",
       "      <td>OXYGEN TRANSPORT</td>\n",
       "      <td>X-RAY DIFFRACTION</td>\n",
       "      <td>Protein</td>\n",
       "      <td>154</td>\n",
       "      <td>2.07</td>\n",
       "      <td>18112.80</td>\n",
       "      <td>NaN</td>\n",
       "      <td>NaN</td>\n",
       "      <td>3.09</td>\n",
       "      <td>60.20</td>\n",
       "      <td>3.0 M AMMONIUM SULFATE, 20 MM TRIS, 1MM EDTA, ...</td>\n",
       "      <td>9.0</td>\n",
       "      <td>1999.0</td>\n",
       "      <td>A</td>\n",
       "      <td>MVLSEGEWQLVLHVWAKVEADVAGHGQDILIRLFKSHPETLEKFDR...</td>\n",
       "      <td>154</td>\n",
       "      <td>Protein</td>\n",
       "    </tr>\n",
       "    <tr>\n",
       "      <th>7</th>\n",
       "      <td>102L</td>\n",
       "      <td>HYDROLASE(O-GLYCOSYL)</td>\n",
       "      <td>X-RAY DIFFRACTION</td>\n",
       "      <td>Protein</td>\n",
       "      <td>165</td>\n",
       "      <td>1.74</td>\n",
       "      <td>18926.61</td>\n",
       "      <td>NaN</td>\n",
       "      <td>NaN</td>\n",
       "      <td>2.75</td>\n",
       "      <td>55.28</td>\n",
       "      <td>NaN</td>\n",
       "      <td>NaN</td>\n",
       "      <td>1993.0</td>\n",
       "      <td>A</td>\n",
       "      <td>MNIFEMLRIDEGLRLKIYKDTEGYYTIGIGHLLTKSPSLNAAAKSE...</td>\n",
       "      <td>165</td>\n",
       "      <td>Protein</td>\n",
       "    </tr>\n",
       "    <tr>\n",
       "      <th>8</th>\n",
       "      <td>102M</td>\n",
       "      <td>OXYGEN TRANSPORT</td>\n",
       "      <td>X-RAY DIFFRACTION</td>\n",
       "      <td>Protein</td>\n",
       "      <td>154</td>\n",
       "      <td>1.84</td>\n",
       "      <td>18010.64</td>\n",
       "      <td>NaN</td>\n",
       "      <td>NaN</td>\n",
       "      <td>3.09</td>\n",
       "      <td>60.20</td>\n",
       "      <td>3.0 M AMMONIUM SULFATE, 20 MM TRIS, 1MM EDTA, ...</td>\n",
       "      <td>9.0</td>\n",
       "      <td>1999.0</td>\n",
       "      <td>A</td>\n",
       "      <td>MVLSEGEWQLVLHVWAKVEADVAGHGQDILIRLFKSHPETLEKFDR...</td>\n",
       "      <td>154</td>\n",
       "      <td>Protein</td>\n",
       "    </tr>\n",
       "    <tr>\n",
       "      <th>11</th>\n",
       "      <td>103L</td>\n",
       "      <td>HYDROLASE(O-GLYCOSYL)</td>\n",
       "      <td>X-RAY DIFFRACTION</td>\n",
       "      <td>Protein</td>\n",
       "      <td>167</td>\n",
       "      <td>1.90</td>\n",
       "      <td>19092.72</td>\n",
       "      <td>NaN</td>\n",
       "      <td>NaN</td>\n",
       "      <td>2.70</td>\n",
       "      <td>54.46</td>\n",
       "      <td>NaN</td>\n",
       "      <td>NaN</td>\n",
       "      <td>1993.0</td>\n",
       "      <td>A</td>\n",
       "      <td>MNIFEMLRIDEGLRLKIYKDTEGYYTIGIGHLLTKSPSLNSLDAAK...</td>\n",
       "      <td>167</td>\n",
       "      <td>Protein</td>\n",
       "    </tr>\n",
       "    <tr>\n",
       "      <th>15</th>\n",
       "      <td>104L</td>\n",
       "      <td>HYDROLASE(O-GLYCOSYL)</td>\n",
       "      <td>X-RAY DIFFRACTION</td>\n",
       "      <td>Protein</td>\n",
       "      <td>332</td>\n",
       "      <td>2.80</td>\n",
       "      <td>37541.04</td>\n",
       "      <td>NaN</td>\n",
       "      <td>NaN</td>\n",
       "      <td>3.04</td>\n",
       "      <td>59.49</td>\n",
       "      <td>NaN</td>\n",
       "      <td>NaN</td>\n",
       "      <td>1993.0</td>\n",
       "      <td>A</td>\n",
       "      <td>MNIFEMLRIDEGLRLKIYKDTEGYYTIGIGHLLTKSPSLNAAKSAA...</td>\n",
       "      <td>332</td>\n",
       "      <td>Protein</td>\n",
       "    </tr>\n",
       "  </tbody>\n",
       "</table>\n",
       "</div>"
      ],
      "text/plain": [
       "   structureId         classification experimentalTechnique  \\\n",
       "4         101M       OXYGEN TRANSPORT     X-RAY DIFFRACTION   \n",
       "7         102L  HYDROLASE(O-GLYCOSYL)     X-RAY DIFFRACTION   \n",
       "8         102M       OXYGEN TRANSPORT     X-RAY DIFFRACTION   \n",
       "11        103L  HYDROLASE(O-GLYCOSYL)     X-RAY DIFFRACTION   \n",
       "15        104L  HYDROLASE(O-GLYCOSYL)     X-RAY DIFFRACTION   \n",
       "\n",
       "   macromoleculeType_x  residueCount_x  resolution  structureMolecularWeight  \\\n",
       "4              Protein             154        2.07                  18112.80   \n",
       "7              Protein             165        1.74                  18926.61   \n",
       "8              Protein             154        1.84                  18010.64   \n",
       "11             Protein             167        1.90                  19092.72   \n",
       "15             Protein             332        2.80                  37541.04   \n",
       "\n",
       "   crystallizationMethod  crystallizationTempK  densityMatthews  \\\n",
       "4                    NaN                   NaN             3.09   \n",
       "7                    NaN                   NaN             2.75   \n",
       "8                    NaN                   NaN             3.09   \n",
       "11                   NaN                   NaN             2.70   \n",
       "15                   NaN                   NaN             3.04   \n",
       "\n",
       "    densityPercentSol                                        pdbxDetails  \\\n",
       "4               60.20  3.0 M AMMONIUM SULFATE, 20 MM TRIS, 1MM EDTA, ...   \n",
       "7               55.28                                                NaN   \n",
       "8               60.20  3.0 M AMMONIUM SULFATE, 20 MM TRIS, 1MM EDTA, ...   \n",
       "11              54.46                                                NaN   \n",
       "15              59.49                                                NaN   \n",
       "\n",
       "    phValue  publicationYear chainId  \\\n",
       "4       9.0           1999.0       A   \n",
       "7       NaN           1993.0       A   \n",
       "8       9.0           1999.0       A   \n",
       "11      NaN           1993.0       A   \n",
       "15      NaN           1993.0       A   \n",
       "\n",
       "                                             sequence  residueCount_y  \\\n",
       "4   MVLSEGEWQLVLHVWAKVEADVAGHGQDILIRLFKSHPETLEKFDR...             154   \n",
       "7   MNIFEMLRIDEGLRLKIYKDTEGYYTIGIGHLLTKSPSLNAAAKSE...             165   \n",
       "8   MVLSEGEWQLVLHVWAKVEADVAGHGQDILIRLFKSHPETLEKFDR...             154   \n",
       "11  MNIFEMLRIDEGLRLKIYKDTEGYYTIGIGHLLTKSPSLNSLDAAK...             167   \n",
       "15  MNIFEMLRIDEGLRLKIYKDTEGYYTIGIGHLLTKSPSLNAAKSAA...             332   \n",
       "\n",
       "   macromoleculeType_y  \n",
       "4              Protein  \n",
       "7              Protein  \n",
       "8              Protein  \n",
       "11             Protein  \n",
       "15             Protein  "
      ]
     },
     "execution_count": 4,
     "metadata": {},
     "output_type": "execute_result"
    }
   ],
   "source": [
    "df = pd.read_csv('/home/user/Projects/Paper_Noelia/my_code/ESM_Model_test/input_prot_fam/pdb_data_no_dups.csv').merge(pd.read_csv('/home/user/Projects/Paper_Noelia/my_code/ESM_Model_test/input_prot_fam/pdb_data_seq.csv'), how='inner', on='structureId').drop_duplicates([\"sequence\"]) # ,\"classification\"\n",
    "# Drop rows with missing labels\n",
    "df = df[[type(c) == type('') for c in df.classification.values]]\n",
    "df = df[[type(c) == type('') for c in df.sequence.values]]\n",
    "# select proteins\n",
    "df = df[df.macromoleculeType_x == 'Protein']\n",
    "df.reset_index()\n",
    "print(df.shape)\n",
    "df.head()"
   ]
  },
  {
   "cell_type": "code",
   "execution_count": 5,
   "id": "05e0b70d-90b3-43e5-a734-93a6a38fdb74",
   "metadata": {},
   "outputs": [
    {
     "name": "stdout",
     "output_type": "stream",
     "text": [
      "1732.0\n"
     ]
    },
    {
     "data": {
      "text/plain": [
       "count     87761.000000\n",
       "mean        922.913937\n",
       "std        3173.118920\n",
       "min           3.000000\n",
       "25%         234.000000\n",
       "50%         451.000000\n",
       "75%         880.000000\n",
       "max      157478.000000\n",
       "Name: residueCount_x, dtype: float64"
      ]
     },
     "execution_count": 5,
     "metadata": {},
     "output_type": "execute_result"
    }
   ],
   "source": [
    "print(df.residueCount_x.quantile(0.9))\n",
    "df.residueCount_x.describe()"
   ]
  },
  {
   "cell_type": "code",
   "execution_count": 6,
   "id": "46041e74-b150-4cc0-a2db-ade49d396cd1",
   "metadata": {},
   "outputs": [
    {
     "name": "stdout",
     "output_type": "stream",
     "text": [
      "73140\n"
     ]
    },
    {
     "data": {
      "text/plain": [
       "count    73140.000000\n",
       "mean       433.599918\n",
       "std        289.671609\n",
       "min          3.000000\n",
       "25%        198.000000\n",
       "50%        373.000000\n",
       "75%        618.000000\n",
       "max       1198.000000\n",
       "Name: residueCount_x, dtype: float64"
      ]
     },
     "execution_count": 6,
     "metadata": {},
     "output_type": "execute_result"
    }
   ],
   "source": [
    "df = df.loc[df.residueCount_x<1200]\n",
    "print(df.shape[0])\n",
    "df.residueCount_x.describe()"
   ]
  },
  {
   "cell_type": "code",
   "execution_count": 7,
   "id": "a748861a-2ee4-4c07-a7bc-a511607dc513",
   "metadata": {},
   "outputs": [
    {
     "name": "stdout",
     "output_type": "stream",
     "text": [
      "at least 1416 instances per class\n"
     ]
    }
   ],
   "source": [
    "# count numbers of instances per class\n",
    "cnt = Counter(df.classification)\n",
    "# select only K most common classes! - was 10 by default\n",
    "top_classes = 10\n",
    "# sort classes\n",
    "sorted_classes = cnt.most_common()[:top_classes]\n",
    "classes = [c[0] for c in sorted_classes]\n",
    "counts = [c[1] for c in sorted_classes]\n",
    "print(\"at least \" + str(counts[-1]) + \" instances per class\")"
   ]
  },
  {
   "cell_type": "code",
   "execution_count": 8,
   "id": "4bbfd1ef-f936-444c-90a5-cfa9287e280b",
   "metadata": {},
   "outputs": [
    {
     "name": "stdout",
     "output_type": "stream",
     "text": [
      "73140 instances before\n",
      "37280 instances after\n"
     ]
    }
   ],
   "source": [
    "print(str(df.shape[0]) + \" instances before\")\n",
    "df = df[[c in classes for c in df.classification]]\n",
    "print(str(df.shape[0]) + \" instances after\")\n",
    "\n",
    "seqs = list(df.sequence)\n",
    "lengths = [len(s) for s in seqs]"
   ]
  },
  {
   "cell_type": "code",
   "execution_count": 10,
   "id": "e2a6161f-d580-4b5c-a390-62da0363f738",
   "metadata": {},
   "outputs": [],
   "source": [
    "max_length = 300\n",
    "for n,i in enumerate(seqs):\n",
    "    seqs[n] = seqs[n][:max_length]"
   ]
  },
  {
   "cell_type": "code",
   "execution_count": 11,
   "id": "65fa2807-1a90-43be-a634-31f2ad055b11",
   "metadata": {},
   "outputs": [
    {
     "data": {
      "text/plain": [
       "37280"
      ]
     },
     "execution_count": 11,
     "metadata": {},
     "output_type": "execute_result"
    }
   ],
   "source": [
    "ys = list(df.classification)\n",
    "len(ys)"
   ]
  },
  {
   "cell_type": "code",
   "execution_count": 13,
   "id": "29a9f877-e5a9-4d37-88ab-6ac093a61f56",
   "metadata": {},
   "outputs": [],
   "source": [
    "FASTA_PATH = \"/home/user/Projects/Paper_Noelia/my_code/ESM_Model_test/input_prot_fam/df_prot_fam.fasta\" \n",
    "EMB_PATH = \"/home/user/Projects/Paper_Noelia/my_code/ESM_Model_test/input_prot_fam/Results_bulk_emb_esm\" \n",
    "EMB_LAYER = 33"
   ]
  },
  {
   "cell_type": "code",
   "execution_count": 14,
   "id": "c838fdfc-1a7b-417e-96a6-f2509d28ec0a",
   "metadata": {},
   "outputs": [
    {
     "name": "stdout",
     "output_type": "stream",
     "text": [
      "(37280, 1280)\n"
     ]
    }
   ],
   "source": [
    "Xs = []\n",
    "for header, _seq in esm.data.read_fasta(FASTA_PATH):\n",
    "    fn = f'{EMB_PATH}/{header[1:]}.pt'\n",
    "    embs = torch.load(fn)\n",
    "    Xs.append(embs['mean_representations'][EMB_LAYER])\n",
    "Xs = torch.stack(Xs, dim=0).numpy()\n",
    "print(Xs.shape)"
   ]
  },
  {
   "cell_type": "code",
   "execution_count": 15,
   "id": "e7b4ab40-1130-4f86-bddc-0fa34538e121",
   "metadata": {},
   "outputs": [],
   "source": [
    "train_size = 0.8\n",
    "Xs_train, Xs_test, ys_train, ys_test = train_test_split(Xs, ys, train_size=train_size, random_state=42)"
   ]
  },
  {
   "cell_type": "code",
   "execution_count": 16,
   "id": "e88f2ce7-e964-41d6-b81e-156beea0446c",
   "metadata": {},
   "outputs": [
    {
     "data": {
      "text/plain": [
       "((29824, 1280), (7456, 1280), 29824, 7456)"
      ]
     },
     "execution_count": 16,
     "metadata": {},
     "output_type": "execute_result"
    }
   ],
   "source": [
    "Xs_train.shape, Xs_test.shape, len(ys_train), len(ys_test)"
   ]
  },
  {
   "cell_type": "code",
   "execution_count": 17,
   "id": "68ace952-2b78-41c1-b978-bb6b4cd98b82",
   "metadata": {},
   "outputs": [],
   "source": [
    "pca = PCA(60)\n",
    "Xs_train_pca = pca.fit_transform(Xs_train)"
   ]
  },
  {
   "cell_type": "code",
   "execution_count": 18,
   "id": "ed8fc683-8c03-4d7d-aa68-d6e96b9275c0",
   "metadata": {},
   "outputs": [
    {
     "data": {
      "text/plain": [
       "1280"
      ]
     },
     "execution_count": 18,
     "metadata": {},
     "output_type": "execute_result"
    }
   ],
   "source": [
    "Xs_train[0].size"
   ]
  },
  {
   "cell_type": "code",
   "execution_count": 19,
   "id": "b985c2c9-6424-4686-8317-42f5e2e0bbc9",
   "metadata": {},
   "outputs": [
    {
     "data": {
      "text/plain": [
       "array([[ 0.1438748 ,  0.03533748, -0.02898256, ..., -0.09603556,\n",
       "        -0.05697378,  0.19259219],\n",
       "       [ 0.17272273,  0.16387296, -0.04663553, ...,  0.11809193,\n",
       "        -0.08998685,  0.14496161],\n",
       "       [ 0.0222279 ,  0.2175613 , -0.12115411, ...,  0.12973131,\n",
       "        -0.08974393, -0.14509784],\n",
       "       ...,\n",
       "       [ 0.15982424,  0.11773956, -0.04919418, ..., -0.09676334,\n",
       "         0.137497  ,  0.15694834],\n",
       "       [ 0.06932002,  0.3028572 , -0.05969365, ..., -0.17375427,\n",
       "        -0.18557784,  0.05983735],\n",
       "       [ 0.01167518,  0.17601773, -0.04654519, ..., -0.00160343,\n",
       "        -0.05102926,  0.0152693 ]], dtype=float32)"
      ]
     },
     "execution_count": 19,
     "metadata": {},
     "output_type": "execute_result"
    }
   ],
   "source": [
    "Xs_train"
   ]
  },
  {
   "cell_type": "code",
   "execution_count": 20,
   "id": "f9ffdbbf-9ad1-400a-ad95-3afa8396754c",
   "metadata": {},
   "outputs": [],
   "source": [
    "Xs_test_pca = pca.transform(Xs_test)"
   ]
  },
  {
   "cell_type": "code",
   "execution_count": 21,
   "id": "1005f6ad-da25-4082-a8d2-a44d451a7da9",
   "metadata": {},
   "outputs": [
    {
     "data": {
      "text/plain": [
       "KNeighborsClassifier()"
      ]
     },
     "execution_count": 21,
     "metadata": {},
     "output_type": "execute_result"
    }
   ],
   "source": [
    "knn = KNeighborsClassifier(n_neighbors = 5) #setting up the KNN model to use 5NN\n",
    "knn.fit(Xs_train_pca, ys_train) #fitting the KNN"
   ]
  },
  {
   "cell_type": "code",
   "execution_count": 22,
   "id": "4c3aaf1c-0041-49eb-bd5f-2016d4762a6d",
   "metadata": {},
   "outputs": [
    {
     "name": "stdout",
     "output_type": "stream",
     "text": [
      "Accuracy of K-NN classifier on training set: 0.82\n"
     ]
    }
   ],
   "source": [
    "#Checking performance on the training set\n",
    "print('Accuracy of K-NN classifier on training set: {:.2f}'\n",
    "     .format(knn.score(Xs_train_pca, ys_train)))"
   ]
  },
  {
   "cell_type": "code",
   "execution_count": 23,
   "id": "8afe875a-e59c-4338-883c-5d42a556673f",
   "metadata": {},
   "outputs": [
    {
     "name": "stdout",
     "output_type": "stream",
     "text": [
      "Accuracy of K-NN classifier on test set: 0.74\n"
     ]
    }
   ],
   "source": [
    "#Checking performance on the test set\n",
    "print('Accuracy of K-NN classifier on test set: {:.2f}'\n",
    "     .format(knn.score(Xs_test_pca, ys_test)))"
   ]
  },
  {
   "cell_type": "code",
   "execution_count": 24,
   "id": "9da0a60a-bd20-40da-80fe-a180f162d0ee",
   "metadata": {},
   "outputs": [
    {
     "data": {
      "text/plain": [
       "Pipeline(steps=[('standardscaler', StandardScaler()),\n",
       "                ('svc', SVC(gamma='auto'))])"
      ]
     },
     "execution_count": 24,
     "metadata": {},
     "output_type": "execute_result"
    }
   ],
   "source": [
    "from sklearn.svm import SVC\n",
    "from sklearn.pipeline import make_pipeline\n",
    "from sklearn.preprocessing import StandardScaler\n",
    "clf = make_pipeline(StandardScaler(), SVC(gamma='auto'))\n",
    "clf.fit(Xs_train_pca, ys_train)"
   ]
  },
  {
   "cell_type": "code",
   "execution_count": 25,
   "id": "1c50e65d-da6b-4c12-be74-3734de690d5c",
   "metadata": {},
   "outputs": [
    {
     "name": "stdout",
     "output_type": "stream",
     "text": [
      "Accuracy of SCV classifier on training set: 0.82\n"
     ]
    }
   ],
   "source": [
    "print('Accuracy of SCV classifier on training set: {:.2f}'\n",
    "     .format(clf.score(Xs_train_pca, ys_train)))"
   ]
  },
  {
   "cell_type": "code",
   "execution_count": 26,
   "id": "83ecd40b-6048-4a4e-a490-43445c201408",
   "metadata": {},
   "outputs": [
    {
     "name": "stdout",
     "output_type": "stream",
     "text": [
      "Accuracy of SCV classifier on test set: 0.77\n"
     ]
    }
   ],
   "source": [
    "print('Accuracy of SCV classifier on test set: {:.2f}'\n",
    "     .format(clf.score(Xs_test_pca, ys_test)))"
   ]
  },
  {
   "cell_type": "code",
   "execution_count": 27,
   "id": "3122ea96-0772-4f68-a426-61f360f3cf49",
   "metadata": {},
   "outputs": [
    {
     "data": {
      "text/plain": [
       "RandomForestClassifier(max_depth=2, random_state=0)"
      ]
     },
     "execution_count": 27,
     "metadata": {},
     "output_type": "execute_result"
    }
   ],
   "source": [
    "rfc = RandomForestClassifier(max_depth=2, random_state=0)\n",
    "rfc.fit(Xs_train_pca, ys_train)"
   ]
  },
  {
   "cell_type": "code",
   "execution_count": 29,
   "id": "84bd3c2b-ecf4-4c3c-9bc9-f22d65a9a0b6",
   "metadata": {},
   "outputs": [
    {
     "name": "stdout",
     "output_type": "stream",
     "text": [
      "Accuracy of Random Forest classifier on training set: 0.36\n"
     ]
    }
   ],
   "source": [
    "print('Accuracy of Random Forest classifier on training set: {:.2f}'\n",
    "     .format(rfc.score(Xs_train_pca, ys_train)))"
   ]
  },
  {
   "cell_type": "code",
   "execution_count": 28,
   "id": "89ef648b-264d-4773-b1c8-55712fba8445",
   "metadata": {},
   "outputs": [
    {
     "name": "stdout",
     "output_type": "stream",
     "text": [
      "Accuracy of Random Forest classifier on test set: 0.37\n"
     ]
    }
   ],
   "source": [
    "print('Accuracy of Random Forest classifier on test set: {:.2f}'\n",
    "     .format(rfc.score(Xs_test_pca, ys_test)))"
   ]
  }
 ],
 "metadata": {
  "kernelspec": {
   "display_name": "Python 3 (ipykernel)",
   "language": "python",
   "name": "python3"
  },
  "language_info": {
   "codemirror_mode": {
    "name": "ipython",
    "version": 3
   },
   "file_extension": ".py",
   "mimetype": "text/x-python",
   "name": "python",
   "nbconvert_exporter": "python",
   "pygments_lexer": "ipython3",
   "version": "3.8.13"
  }
 },
 "nbformat": 4,
 "nbformat_minor": 5
}
